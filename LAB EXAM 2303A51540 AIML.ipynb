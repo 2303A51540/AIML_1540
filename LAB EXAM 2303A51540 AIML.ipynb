{
  "nbformat": 4,
  "nbformat_minor": 0,
  "metadata": {
    "colab": {
      "provenance": [],
      "authorship_tag": "ABX9TyM5zeGvN5hq0qFqadEREGP/",
      "include_colab_link": true
    },
    "kernelspec": {
      "name": "python3",
      "display_name": "Python 3"
    },
    "language_info": {
      "name": "python"
    }
  },
  "cells": [
    {
      "cell_type": "markdown",
      "metadata": {
        "id": "view-in-github",
        "colab_type": "text"
      },
      "source": [
        "<a href=\"https://colab.research.google.com/github/2303A51540/AIML_1540/blob/main/LAB%20EXAM%202303A51540%20AIML.ipynb\" target=\"_parent\"><img src=\"https://colab.research.google.com/assets/colab-badge.svg\" alt=\"Open In Colab\"/></a>"
      ]
    },
    {
      "cell_type": "code",
      "execution_count": null,
      "metadata": {
        "id": "7-Hdhm99lMy_"
      },
      "outputs": [],
      "source": [
        "import pandas as pd\n",
        "data = pd.read_csv(\"recipe.csv\")\n",
        "\n",
        "# Q1\n",
        "most_appreciated_recipe = (\n",
        "    data.groupby(\"recipe_name\")[\"stars\"]\n",
        "    .mean()\n",
        "    .sort_values(ascending=False)\n",
        "    .idxmax()\n",
        ")"
      ]
    },
    {
      "cell_type": "code",
      "source": [
        "top_5_recipes_prepared = (\n",
        "    data[\"recipe_name\"]\n",
        "    .value_counts()\n",
        "    .head(5)\n",
        "    .index.tolist()\n",
        ")"
      ],
      "metadata": {
        "id": "pbPum7AzlY6j"
      },
      "execution_count": null,
      "outputs": []
    },
    {
      "cell_type": "code",
      "source": [
        " data.groupby(\"recipe_name\")[\"thumbs_up\"]\n",
        "    .sum()\n",
        "    .sort_values(ascending=False)\n",
        "    .idxmax()\n",
        "\n"
      ],
      "metadata": {
        "id": "oEEusZc9lcBK"
      },
      "execution_count": null,
      "outputs": []
    },
    {
      "cell_type": "code",
      "source": [
        "most_ordered_recipes = (\n",
        "    data[\"recipe_name\"]\n",
        "    .value_counts()\n",
        "    .head(100)\n",
        "    .index.tolist()\n",
        ")"
      ],
      "metadata": {
        "id": "d5vTQ9u-le8b"
      },
      "execution_count": null,
      "outputs": []
    },
    {
      "cell_type": "code",
      "source": [
        "print(\"Q1. Most Appreciated Recipe:\", most_appreciated_recipe)\n",
        "print(\"Q2. Top 5 Recipes Prepared the Most:\", top_5_recipes_prepared)\n",
        "print(\"Q3. Recipe with Most User Delight:\", most_user_delight_recipe)\n",
        "print(\"Q4. Recipe with Highest Reputation:\", highest_reputation_recipe)\n",
        "print(\"Q5. Most Ordered Recipes Among Top 100:\", most_ordered_recipes[:5])"
      ],
      "metadata": {
        "id": "gSiugh18liPW"
      },
      "execution_count": null,
      "outputs": []
    }
  ]
}