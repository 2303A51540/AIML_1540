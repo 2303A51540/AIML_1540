{
  "nbformat": 4,
  "nbformat_minor": 0,
  "metadata": {
    "colab": {
      "provenance": [],
      "authorship_tag": "ABX9TyMo5MYMugd+f52ALTykSA8n",
      "include_colab_link": true
    },
    "kernelspec": {
      "name": "python3",
      "display_name": "Python 3"
    },
    "language_info": {
      "name": "python"
    }
  },
  "cells": [
    {
      "cell_type": "markdown",
      "metadata": {
        "id": "view-in-github",
        "colab_type": "text"
      },
      "source": [
        "<a href=\"https://colab.research.google.com/github/2303A51540/AIML_1540/blob/main/Untitled0.ipynb\" target=\"_parent\"><img src=\"https://colab.research.google.com/assets/colab-badge.svg\" alt=\"Open In Colab\"/></a>"
      ]
    },
    {
      "cell_type": "code",
      "execution_count": null,
      "metadata": {
        "colab": {
          "base_uri": "https://localhost:8080/"
        },
        "id": "fjmC24urlkij",
        "outputId": "102b03ea-44d1-4e39-dc1e-82662c6552e8"
      },
      "outputs": [
        {
          "output_type": "stream",
          "name": "stdout",
          "text": [
            "[1 2 3 4 5]\n",
            "[1, 2, 3, 4, 5]\n",
            "3\n",
            "1\n",
            "<class 'int'>\n",
            "<class 'float'>\n",
            "<class 'str'>\n",
            "<class 'list'>\n"
          ]
        }
      ],
      "source": [
        "import numpy as np\n",
        "array_1 = np.array([1,2,3,4,5])\n",
        "print(array_1)\n",
        "List_1 =[1,2,3,4,5]\n",
        "List_2 =[6,7,8,9,10]\n",
        "print(List_1)\n",
        "print(List_1[2])\n",
        "print(List_1[0])\n",
        "x = 8\n",
        "y = 0.59\n",
        "z = \"Nishi\"\n",
        "print (type(x))\n",
        "print (type(y))\n",
        "print (type(z))\n",
        "print (type(List_1))\n"
      ]
    },
    {
      "cell_type": "code",
      "source": [
        "import numpy as np\n",
        "array_1 =np.array([7,4,8,2])\n",
        "array_2 =np.array([2,5,1,6])\n",
        "result = array_1 * array_2\n",
        "print(result)"
      ],
      "metadata": {
        "colab": {
          "base_uri": "https://localhost:8080/"
        },
        "id": "kGaX4_Iju__o",
        "outputId": "0cc7224e-a5be-46d0-e09b-31d4546218ac"
      },
      "execution_count": null,
      "outputs": [
        {
          "output_type": "stream",
          "name": "stdout",
          "text": [
            "[14 20  8 12]\n"
          ]
        }
      ]
    },
    {
      "cell_type": "code",
      "source": [
        "import numpy as np\n",
        "array1 = np.array([7,4,8,2])\n",
        "array2 = np.array([9,5,3,6])\n",
        "result = array1 / array2\n",
        "print(result)"
      ],
      "metadata": {
        "colab": {
          "base_uri": "https://localhost:8080/"
        },
        "id": "9XIk58TmwEOB",
        "outputId": "9bd78e6b-0a17-4650-8cc3-7928347377d1"
      },
      "execution_count": null,
      "outputs": [
        {
          "output_type": "stream",
          "name": "stdout",
          "text": [
            "[0.77777778 0.8        2.66666667 0.33333333]\n"
          ]
        }
      ]
    },
    {
      "cell_type": "code",
      "source": [
        "import numpy as np\n",
        "array1 = np.array([7,4,8,2])\n",
        "array2 = np.array([9,5,3,6])\n",
        "result = array1 ** array2\n",
        "print(result)"
      ],
      "metadata": {
        "colab": {
          "base_uri": "https://localhost:8080/"
        },
        "id": "sOmVI1c4w7lr",
        "outputId": "6d5ff3f9-9941-46a6-e3f4-df891564dd39"
      },
      "execution_count": null,
      "outputs": [
        {
          "output_type": "stream",
          "name": "stdout",
          "text": [
            "[40353607     1024      512       64]\n"
          ]
        }
      ]
    },
    {
      "cell_type": "code",
      "source": [
        "import numpy as np\n",
        "array1 = np.array([7,4,8,2])\n",
        "array2 = np.array([9,5,3,6])\n",
        "result = array1 + array2\n",
        "print(\"addition of 2 arrays:\",result)"
      ],
      "metadata": {
        "colab": {
          "base_uri": "https://localhost:8080/"
        },
        "id": "a007N5W4xlYY",
        "outputId": "2931f8a5-02d3-4798-e2b3-a861a5b3e0eb"
      },
      "execution_count": null,
      "outputs": [
        {
          "output_type": "stream",
          "name": "stdout",
          "text": [
            "addition of 2 arrays: [16  9 11  8]\n"
          ]
        }
      ]
    },
    {
      "cell_type": "code",
      "source": [
        "import numpy as np\n",
        "array3 = np.array([0,np.pi/2,np.pi*3])\n",
        "sinarray = np.sin(array3)\n",
        "print (sinarray)"
      ],
      "metadata": {
        "colab": {
          "base_uri": "https://localhost:8080/"
        },
        "id": "Djg3cLWK0rbs",
        "outputId": "255b0068-200e-49ab-ddad-75c7e8734d4a"
      },
      "execution_count": null,
      "outputs": [
        {
          "output_type": "stream",
          "name": "stdout",
          "text": [
            "[0.0000000e+00 1.0000000e+00 3.6739404e-16]\n"
          ]
        }
      ]
    },
    {
      "cell_type": "code",
      "source": [
        "import numpy as np\n",
        "array4 = np.array([0, np.e/2,np.e*3])\n",
        "logarray = np.log(array4)\n",
        "print (logarray)"
      ],
      "metadata": {
        "colab": {
          "base_uri": "https://localhost:8080/"
        },
        "id": "1LC1b0dy3I7f",
        "outputId": "36b70c57-206c-43b9-f400-eedf742b5feb"
      },
      "execution_count": null,
      "outputs": [
        {
          "output_type": "stream",
          "name": "stdout",
          "text": [
            "[      -inf 0.30685282 2.09861229]\n"
          ]
        },
        {
          "output_type": "stream",
          "name": "stderr",
          "text": [
            "<ipython-input-26-ec63ad9f3a37>:3: RuntimeWarning: divide by zero encountered in log\n",
            "  logarray = np.log(array4)\n"
          ]
        }
      ]
    },
    {
      "cell_type": "code",
      "source": [
        "import numpy as np\n",
        "array5 = np.array([1,np.e,np.e**2,10])\n",
        "log_array = np.log(array5)\n",
        "print(log_array)"
      ],
      "metadata": {
        "colab": {
          "base_uri": "https://localhost:8080/"
        },
        "id": "HMLHyYZC366p",
        "outputId": "88cbcd7d-1b9c-4243-f9c0-32d395a56fd9"
      },
      "execution_count": null,
      "outputs": [
        {
          "output_type": "stream",
          "name": "stdout",
          "text": [
            "[0.         1.         2.         2.30258509]\n"
          ]
        }
      ]
    },
    {
      "cell_type": "markdown",
      "source": [],
      "metadata": {
        "id": "c5UdGfzdvAdC"
      }
    }
  ]
}